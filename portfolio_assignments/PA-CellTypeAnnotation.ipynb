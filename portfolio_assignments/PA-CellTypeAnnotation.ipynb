{
 "cells": [
  {
   "cell_type": "markdown",
   "metadata": {},
   "source": [
    "### Assignment: Cell Type Annotation in PBMCs Using scRNA-Seq Data\n",
    "\n",
    "#### Objective \n",
    "In this assignment, you’ll analyze single-cell RNA sequencing (scRNA-seq) data from the PBMC 3k dataset, which contains approximately 3,000 peripheral blood mononuclear cells from a healthy donor. These cell types play crucial roles in the immune system, each contributing to immune responses in various ways. In total, there are around five major categories (T cells, B cels, NK cells, Monocytes and Dendritic cells), but within each, there are more specific subtypes that can be identified using additional markers in single-cell RNA sequencing. \n",
    "\n",
    "You’ll use techniques like dimensionality reduction, clustering, and marker gene analysis to identify and annotate distinct cell types within the dataset. Your main job is to identify clusters of cells that are similar to each other and find discriminative markers per cluster to use those for cell annotation. \n",
    "\n",
    "---\n",
    "\n",
    "> **Note:** If your research contains single cell RNA data you are free to use that datasource instead of the PBMC dataset. \n",
    "\n",
    "---\n",
    "\n",
    "#### Scanpy  \n",
    "You will use `Scanpy` in Python for data processing, clustering, and visualization. Furthermore you can `Sklearn` if you want to use methods not available in scanpy. \n",
    "\n",
    "The `Scanpy` object is a data structure used in the Scanpy package for single-cell RNA sequencing (scRNA-seq) analysis in Python. It is designed to store and manage scRNA-seq data along with associated metadata, results of quality control and pre-processing steps, and results of downstream analyses such as cell clustering, differential gene expression analysis, and data visualization.\n",
    "\n",
    "The Scanpy object is built on top of the `AnnData` object, which is a generic container for annotated data in Python. It typically contains the following components:\n",
    "\n",
    "- `.X`: a matrix or sparse matrix of gene expression data, where rows correspond to cells and columns correspond to - genes. This matrix is used for downstream analyses.\n",
    "- `.obs`: a DataFrame containing metadata for each cell, such as cell type, sample ID, and experimental condition.\n",
    "- `.var`: a DataFrame containing metadata for each gene, such as gene name, gene ID, and gene biotype.\n",
    "- `.obsm`: a dictionary of additional per-cell annotations, such as cell embeddings obtained through dimensionality reduction methods like principal component analysis (PCA) or t-distributed stochastic neighbor embedding (t-SNE).-\n",
    "- `.varm`: a dictionary of additional per-gene annotations.\n",
    "- `.uns`: a dictionary of unstructured annotations, which can be used to store arbitrary data or metadata.\n",
    "- `.obs_names`: a vector of cell names or IDs.\n",
    "- `.var_names`: a vector of gene names or IDs.\n",
    "\n",
    "\n",
    "\n",
    "\n",
    "---\n",
    "#### Assignment Steps\n",
    "In this assignment you can use the scanpy [tutorial]https://scanpy-tutorials.readthedocs.io/en/multiomics/pbmc3k.html for code snippets. Make sure that you understand each piece of code snippet before usage. The code blocks in this notebook can be used to test code snippets and to gain more understandig. \n",
    "\n",
    "\n",
    "1. **Data Loading and Preprocessing**  \n",
    "   - Load the  dataset\n",
    "   - Filter the data to remove low-quality cells and genes based on minimum gene and cell thresholds.\n",
    "   - Filter on QC metrics.\n",
    "   - Normalize and scale the data to prepare it for further analysis.\n",
    "\n",
    "2. **Dimensionality Reduction**  \n",
    "   - Perform PCA on the dataset to reduce dimensionality, capturing the primary sources of variation.\n",
    "   - Use UMAP or t-SNE to further reduce the data for visualization, making it easier to see clusters of cells. Justify why your selected dimension reduction technique is suitable.\n",
    "\n",
    "3. **Clustering to Identify Cell Types**  \n",
    "   - Apply a clustering algorithm to group similar cells based on gene expression profiles. Justify your chosen cluster algorithm in a scientific manner (either with experiment or scientific source)\n",
    "   - Visualize these clusters using UMAP or t-SNE to explore the distinct immune cell populations in the PBMC dataset.\n",
    "\n",
    "4. **Marker Gene Analysis and Annotation**  \n",
    "   - Identify marker genes for each cluster by finding genes that are uniquely expressed in certain clusters. \n",
    "   - Based on known immune cell markers, annotate each cluster with likely cell type identities, such as T cells, B cells, NK cells, or monocytes.\n",
    "\n",
    "5. **Cluster Composition Analysis**  \n",
    "   - Calculate the proportion of each cell type in the dataset. This will help you understand the overall composition of PBMCs in this sample.\n",
    "   - Visualize the composition using a bar plot to show the distribution of each immune cell type.\n",
    "\n",
    "6. **Interpretation and Reporting**  \n",
    "   - Summarize your findings in a report, detailing how you identified and annotated each cell type.\n",
    "   - Reflect on the immune cell diversity observed in the data.\n",
    "\n",
    "---\n",
    "\n",
    "#### Learning Outcomes  \n",
    "Through this assignment, you’ll gain experience with:\n",
    "- Preprocessing scRNA-seq data and applying quality control.\n",
    "- Using dimensionality reduction and clustering to identify cell types.\n",
    "- Performing marker gene analysis for cell type annotation.\n",
    "- Understanding the composition and diversity of cells in blood samples.\n",
    "\n",
    "---\n",
    "\n",
    "> **Bonus**\n",
    "Experiment with multiple techniques and evaluate the outcome. Mind you that you need to extract the `X` or `X_pca` matrix from the `scanpy` object first to use sklearn objects. \n",
    "\n",
    "---\n",
    "\n",
    "#### Assessment criteria\n",
    "- Organized solution: Portfolio well-organized. Code is devided in functions or class methods, using coding standards and is adequately documented. Code wich is not written in functions or methods will not be reviewed. Assignment can be easily reproduced by others. \n",
    "- Problem Understanding and Formulation: Demonstrates a clear understanding of the problem to be addressing\n",
    "- Literature: cites recent and authoritative sources \n",
    "- Data Preprocessing and Exploration: Thoroughly preprocessed the data to handle missing values, outliers, and other data quality issues. Explores the dataset to gain insights and understand its characteristics\n",
    "- Model Selection and Architecture: Chooses appropriate unsupervised machine learning algorithms for the given problem. Provides a rationale for the choices based on the characteristics of the data and problem\n",
    "- Result and discussion: Interprets and discusses the results in a meaningful way. Compares the results to baselines. Conclusions are drawn from the results supported by evidence.\n",
    "- Critical Thinking and Problem-Solving: Student demonstrates critical thinking skills by addressing challenges and proposing insightful solutions\n",
    "- Presentation and Communication:  The concepts are explained clearly, and technical terms are appropriately defined\n",
    "\n",
    "Mind you if you want to use the sklean `Pipeline` function you need to build your own custom transformers"
   ]
  },
  {
   "cell_type": "markdown",
   "metadata": {},
   "source": [
    "## 1. Load the PBMC dataset and apply preprocessing\n",
    "- download the data from: \n",
    "https://s3-us-west-2.amazonaws.com/10x.files/samples/cell/pbmc3k/pbmc3k_filtered_gene_bc_matrices.tar.gz\n",
    "- Unpack the data and inspect the files. \n"
   ]
  },
  {
   "cell_type": "markdown",
   "metadata": {},
   "source": [
    "### Load the data \n",
    "\n",
    "Load the data into an Anndata object. Use the tuturial for tips "
   ]
  },
  {
   "cell_type": "code",
   "execution_count": null,
   "metadata": {},
   "outputs": [],
   "source": [
    "#your code here to load the data into an anndata object"
   ]
  },
  {
   "cell_type": "markdown",
   "metadata": {},
   "source": [
    "### Inspect the data\n",
    "This initialized AnnData object will contain the raw (non-normalized) scRNA-seq data as well as the metadata associated with the data. The `obs` attribute contains cell metadata, the `var` attribute contains gene metadata, the `obsm` attribute contains additional per-cell annotations, and the `varm` attribute contains additional per-gene annotations. The `obs_names` and `var_names` attributes are assigned the cell and gene names or IDs from the pbmc_data object. \n",
    "\n",
    "Now inspect the structure of the loaded data object. "
   ]
  },
  {
   "cell_type": "code",
   "execution_count": null,
   "metadata": {},
   "outputs": [],
   "source": [
    "#your solution here"
   ]
  },
  {
   "cell_type": "markdown",
   "metadata": {},
   "source": [
    "### Preprocessing\n",
    "\n",
    "- Inspect the structure of the loaded data object. \n",
    "- Filter the data to remove low-quality cells and genes based on minimum gene and cell thresholds.\n",
    "- Filter on QC metrics.\n",
    "- Normalize and scale the data to prepare it for further analysis.\n",
    "- Organize your code in functions or class methods. \n"
   ]
  },
  {
   "cell_type": "code",
   "execution_count": null,
   "metadata": {},
   "outputs": [],
   "source": [
    "#your solution here"
   ]
  },
  {
   "cell_type": "markdown",
   "metadata": {},
   "source": [
    "## 2. Dimensionality Reduction\n",
    "\n",
    "   - Perform PCA on the dataset to reduce dimensionality, capturing the primary sources of variation.\n",
    "   - Use UMAP or t-SNE to further reduce the data for visualization, making it easier to see clusters of cells. \n",
    "   - Justify why your selected dimension reduction technique and its configuration is suitable.\n"
   ]
  },
  {
   "cell_type": "code",
   "execution_count": null,
   "metadata": {},
   "outputs": [],
   "source": [
    "#your solution here"
   ]
  },
  {
   "cell_type": "markdown",
   "metadata": {},
   "source": [
    "## 3. Clustering to Identify Cell Types\n",
    "  "
   ]
  },
  {
   "cell_type": "code",
   "execution_count": null,
   "metadata": {},
   "outputs": [],
   "source": [
    "#your solution here"
   ]
  },
  {
   "cell_type": "markdown",
   "metadata": {},
   "source": [
    "## 4. Marker Gene Analysis and Annotation"
   ]
  }
 ],
 "metadata": {
  "kernelspec": {
   "display_name": "dsls",
   "language": "python",
   "name": "dsls"
  },
  "language_info": {
   "codemirror_mode": {
    "name": "ipython",
    "version": 3
   },
   "file_extension": ".py",
   "mimetype": "text/x-python",
   "name": "python",
   "nbconvert_exporter": "python",
   "pygments_lexer": "ipython3",
   "version": "3.10.4"
  }
 },
 "nbformat": 4,
 "nbformat_minor": 2
}
